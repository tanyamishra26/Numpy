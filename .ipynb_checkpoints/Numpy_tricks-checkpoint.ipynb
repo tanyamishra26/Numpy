{
 "cells": [
  {
   "cell_type": "markdown",
   "id": "417c7d42-5a05-423c-8076-51153b4ea0ca",
   "metadata": {},
   "source": [
    "## np.sort\n",
    "Return a sorted copy of an array.\n",
    "\n",
    "https://numpy.org/doc/stable/reference/generated/numpy.sort.html"
   ]
  },
  {
   "cell_type": "code",
   "execution_count": 2,
   "id": "d2e69d88-72bb-4eea-9118-93d6a41964f4",
   "metadata": {},
   "outputs": [
    {
     "data": {
      "text/plain": [
       "array([41, 49, 23, 14, 94, 26, 87, 33, 90, 30, 62, 43, 79, 67, 41])"
      ]
     },
     "execution_count": 2,
     "metadata": {},
     "output_type": "execute_result"
    }
   ],
   "source": [
    "# code\n",
    "import numpy as np\n",
    "a = np.random.randint(1,100,15)\n",
    "a"
   ]
  },
  {
   "cell_type": "code",
   "execution_count": 4,
   "id": "9a151446-fca1-4e0d-aeb0-5042cc31634e",
   "metadata": {},
   "outputs": [
    {
     "data": {
      "text/plain": [
       "array([[29, 19, 34, 27],\n",
       "       [66, 17, 82, 58],\n",
       "       [48, 75, 93, 22],\n",
       "       [39, 76,  1, 49],\n",
       "       [58, 69, 84,  1],\n",
       "       [82, 38, 38, 51]])"
      ]
     },
     "execution_count": 4,
     "metadata": {},
     "output_type": "execute_result"
    }
   ],
   "source": [
    "b = np.random.randint(1,100,24).reshape(6,4)\n",
    "b"
   ]
  },
  {
   "cell_type": "code",
   "execution_count": 16,
   "id": "cc89b0bf-f271-4c74-84fb-5b39d1958455",
   "metadata": {},
   "outputs": [
    {
     "name": "stdout",
     "output_type": "stream",
     "text": [
      "[14 23 26 30 33 41 41 43 49 62 67 79 87 90 94]\n",
      "[94 90 87 79 67 62 49 43 41 41 33 30 26 23 14]\n"
     ]
    }
   ],
   "source": [
    "print(np.sort(a))\n",
    "print(np.sort(a)[::-1])"
   ]
  },
  {
   "cell_type": "code",
   "execution_count": 10,
   "id": "ee1966cf-1ec0-48e1-9dca-d382598696f8",
   "metadata": {},
   "outputs": [
    {
     "data": {
      "text/plain": [
       "array([[19, 27, 29, 34],\n",
       "       [17, 58, 66, 82],\n",
       "       [22, 48, 75, 93],\n",
       "       [ 1, 39, 49, 76],\n",
       "       [ 1, 58, 69, 84],\n",
       "       [38, 38, 51, 82]])"
      ]
     },
     "execution_count": 10,
     "metadata": {},
     "output_type": "execute_result"
    }
   ],
   "source": [
    "np.sort(b) #row-wise sorting"
   ]
  },
  {
   "cell_type": "code",
   "execution_count": 12,
   "id": "1de0b882-7440-48b2-a40b-2953170218c2",
   "metadata": {},
   "outputs": [
    {
     "data": {
      "text/plain": [
       "array([[29, 17,  1,  1],\n",
       "       [39, 19, 34, 22],\n",
       "       [48, 38, 38, 27],\n",
       "       [58, 69, 82, 49],\n",
       "       [66, 75, 84, 51],\n",
       "       [82, 76, 93, 58]])"
      ]
     },
     "execution_count": 12,
     "metadata": {},
     "output_type": "execute_result"
    }
   ],
   "source": [
    "np.sort(b,axis=0) #column-wise sorting"
   ]
  },
  {
   "cell_type": "markdown",
   "id": "a5752c73-9cb1-4d6d-9a44-cba4adf09913",
   "metadata": {},
   "source": [
    "## np.append\n",
    "\n",
    "The numpy.append() appends values along the mentioned axis at the end of the array\n",
    "\n",
    "https://numpy.org/doc/stable/reference/generated/numpy.append.html"
   ]
  },
  {
   "cell_type": "code",
   "execution_count": 19,
   "id": "e386b6a1-d4c7-40eb-8d80-fc532ffa55e6",
   "metadata": {},
   "outputs": [
    {
     "data": {
      "text/plain": [
       "array([ 41,  49,  23,  14,  94,  26,  87,  33,  90,  30,  62,  43,  79,\n",
       "        67,  41, 200])"
      ]
     },
     "execution_count": 19,
     "metadata": {},
     "output_type": "execute_result"
    }
   ],
   "source": [
    "# code\n",
    "np.append(a,200)"
   ]
  },
  {
   "cell_type": "code",
   "execution_count": 21,
   "id": "88d9c8cf-cced-4e03-a02c-62176a67c736",
   "metadata": {},
   "outputs": [
    {
     "data": {
      "text/plain": [
       "array([[29, 19, 34, 27],\n",
       "       [66, 17, 82, 58],\n",
       "       [48, 75, 93, 22],\n",
       "       [39, 76,  1, 49],\n",
       "       [58, 69, 84,  1],\n",
       "       [82, 38, 38, 51]])"
      ]
     },
     "execution_count": 21,
     "metadata": {},
     "output_type": "execute_result"
    }
   ],
   "source": [
    "b"
   ]
  },
  {
   "cell_type": "code",
   "execution_count": 23,
   "id": "e2e4ed9f-19f0-46cf-965a-cd03a1bddab5",
   "metadata": {},
   "outputs": [
    {
     "data": {
      "text/plain": [
       "array([[29.        , 19.        , 34.        , 27.        ,  0.40368867],\n",
       "       [66.        , 17.        , 82.        , 58.        ,  0.66227707],\n",
       "       [48.        , 75.        , 93.        , 22.        ,  0.42353605],\n",
       "       [39.        , 76.        ,  1.        , 49.        ,  0.56307682],\n",
       "       [58.        , 69.        , 84.        ,  1.        ,  0.59838653],\n",
       "       [82.        , 38.        , 38.        , 51.        ,  0.43987463]])"
      ]
     },
     "execution_count": 23,
     "metadata": {},
     "output_type": "execute_result"
    }
   ],
   "source": [
    "np.append(b,np.random.random((b.shape[0],1)),axis=1)"
   ]
  },
  {
   "cell_type": "markdown",
   "id": "edffaff6-af23-40dd-83aa-2477c53b44dc",
   "metadata": {},
   "source": [
    "## np.concatenate\n",
    "\n",
    "numpy.concatenate() function concatenate a sequence of arrays along an existing axis.\n",
    "\n",
    "https://numpy.org/doc/stable/reference/generated/numpy.concatenate.html"
   ]
  },
  {
   "cell_type": "code",
   "execution_count": 28,
   "id": "9fbe3065-9bb0-485c-b9b3-3645b65d18ee",
   "metadata": {},
   "outputs": [
    {
     "name": "stdout",
     "output_type": "stream",
     "text": [
      "[[0 1 2]\n",
      " [3 4 5]]\n",
      "[[ 6  7  8]\n",
      " [ 9 10 11]]\n"
     ]
    }
   ],
   "source": [
    "# code\n",
    "c = np.arange(6).reshape(2,3)\n",
    "d = np.arange(6,12).reshape(2,3)\n",
    "\n",
    "print(c)\n",
    "print(d)"
   ]
  },
  {
   "cell_type": "code",
   "execution_count": 30,
   "id": "00541e48-4eae-4a93-bd6e-fe3ec627c8c9",
   "metadata": {},
   "outputs": [
    {
     "data": {
      "text/plain": [
       "array([[ 0,  1,  2],\n",
       "       [ 3,  4,  5],\n",
       "       [ 6,  7,  8],\n",
       "       [ 9, 10, 11]])"
      ]
     },
     "execution_count": 30,
     "metadata": {},
     "output_type": "execute_result"
    }
   ],
   "source": [
    "np.concatenate((c,d),axis=0) #row-wise"
   ]
  },
  {
   "cell_type": "code",
   "execution_count": 32,
   "id": "b04c78bd-a531-4c0e-968b-278156cf708d",
   "metadata": {},
   "outputs": [
    {
     "data": {
      "text/plain": [
       "array([[ 0,  1,  2,  6,  7,  8],\n",
       "       [ 3,  4,  5,  9, 10, 11]])"
      ]
     },
     "execution_count": 32,
     "metadata": {},
     "output_type": "execute_result"
    }
   ],
   "source": [
    "np.concatenate((c,d),axis=1) #column-wise"
   ]
  },
  {
   "cell_type": "markdown",
   "id": "956a35bf-266a-4cea-8408-bc49707bed0b",
   "metadata": {},
   "source": [
    "## np.unique\n",
    "\n",
    "With the help of np.unique() method, we can get the unique values from an array given as parameter in np.unique() method.\n",
    "\n",
    "https://numpy.org/doc/stable/reference/generated/numpy.unique.html/"
   ]
  },
  {
   "cell_type": "code",
   "execution_count": 35,
   "id": "ab1b412f-7b01-48a1-9022-c95cc183d5a9",
   "metadata": {},
   "outputs": [],
   "source": [
    "# code\n",
    "e = np.array([1,1,2,2,3,3,4,4,5,5,6,6])"
   ]
  },
  {
   "cell_type": "code",
   "execution_count": 37,
   "id": "b60be8de-8a45-4f3e-94c2-c8cdd2ece0aa",
   "metadata": {},
   "outputs": [
    {
     "data": {
      "text/plain": [
       "array([1, 2, 3, 4, 5, 6])"
      ]
     },
     "execution_count": 37,
     "metadata": {},
     "output_type": "execute_result"
    }
   ],
   "source": [
    "np.unique(e)"
   ]
  },
  {
   "cell_type": "markdown",
   "id": "37a2ad20-30b7-440b-97bd-d222c63eb513",
   "metadata": {},
   "source": [
    "## np.expand_dims\n",
    "\n",
    "With the help of Numpy.expand_dims() method, we can get the expanded dimensions of an array\n",
    "\n",
    "https://numpy.org/doc/stable/reference/generated/numpy.expand_dims.html"
   ]
  },
  {
   "cell_type": "code",
   "execution_count": 40,
   "id": "22ef0dc0-5ec5-4906-ac8c-481a1c5a5b8c",
   "metadata": {},
   "outputs": [
    {
     "data": {
      "text/plain": [
       "(15,)"
      ]
     },
     "execution_count": 40,
     "metadata": {},
     "output_type": "execute_result"
    }
   ],
   "source": [
    "# code\n",
    "a.shape"
   ]
  },
  {
   "cell_type": "code",
   "execution_count": 42,
   "id": "8d40a930-94e1-4151-81b0-ed9ae3bfea63",
   "metadata": {},
   "outputs": [
    {
     "data": {
      "text/plain": [
       "array([[41, 49, 23, 14, 94, 26, 87, 33, 90, 30, 62, 43, 79, 67, 41]])"
      ]
     },
     "execution_count": 42,
     "metadata": {},
     "output_type": "execute_result"
    }
   ],
   "source": [
    "np.expand_dims(a,axis=0)"
   ]
  },
  {
   "cell_type": "code",
   "execution_count": 44,
   "id": "a4350dd3-8b82-4612-8981-f8e9e53b6a51",
   "metadata": {},
   "outputs": [
    {
     "data": {
      "text/plain": [
       "(1, 15)"
      ]
     },
     "execution_count": 44,
     "metadata": {},
     "output_type": "execute_result"
    }
   ],
   "source": [
    "np.expand_dims(a,axis=0).shape"
   ]
  },
  {
   "cell_type": "code",
   "execution_count": 46,
   "id": "82944c2e-2187-4424-a8c0-6fb09860797e",
   "metadata": {},
   "outputs": [
    {
     "data": {
      "text/plain": [
       "array([[41],\n",
       "       [49],\n",
       "       [23],\n",
       "       [14],\n",
       "       [94],\n",
       "       [26],\n",
       "       [87],\n",
       "       [33],\n",
       "       [90],\n",
       "       [30],\n",
       "       [62],\n",
       "       [43],\n",
       "       [79],\n",
       "       [67],\n",
       "       [41]])"
      ]
     },
     "execution_count": 46,
     "metadata": {},
     "output_type": "execute_result"
    }
   ],
   "source": [
    "np.expand_dims(a,axis=1)"
   ]
  },
  {
   "cell_type": "code",
   "execution_count": 50,
   "id": "72344d3c-7d79-4e76-9261-15990818d331",
   "metadata": {},
   "outputs": [
    {
     "data": {
      "text/plain": [
       "(1, 15)"
      ]
     },
     "execution_count": 50,
     "metadata": {},
     "output_type": "execute_result"
    }
   ],
   "source": [
    "np.expand_dims(a,axis=0).shape"
   ]
  },
  {
   "cell_type": "markdown",
   "id": "6d52ab69-93c4-477d-8c36-7bf59f0bc127",
   "metadata": {},
   "source": [
    "## np.where\n",
    "\n",
    "The numpy.where() function returns the indices of elements in an input array where the given condition is satisfied.\n",
    "\n",
    "https://numpy.org/doc/stable/reference/generated/numpy.where.html"
   ]
  },
  {
   "cell_type": "code",
   "execution_count": 53,
   "id": "54b786cb-1575-42d4-b464-dbd5ceb73b17",
   "metadata": {},
   "outputs": [
    {
     "data": {
      "text/plain": [
       "array([41, 49, 23, 14, 94, 26, 87, 33, 90, 30, 62, 43, 79, 67, 41])"
      ]
     },
     "execution_count": 53,
     "metadata": {},
     "output_type": "execute_result"
    }
   ],
   "source": [
    "a"
   ]
  },
  {
   "cell_type": "code",
   "execution_count": 55,
   "id": "cff1cdad-5304-4920-8500-a58348ae8ef4",
   "metadata": {},
   "outputs": [
    {
     "data": {
      "text/plain": [
       "(array([ 4,  6,  8, 10, 12, 13], dtype=int64),)"
      ]
     },
     "execution_count": 55,
     "metadata": {},
     "output_type": "execute_result"
    }
   ],
   "source": [
    "# find all indices with value greater than 50\n",
    "np.where(a>50)"
   ]
  },
  {
   "cell_type": "code",
   "execution_count": 59,
   "id": "7846ef2d-b4db-4d94-8dbe-41dd919eaadd",
   "metadata": {},
   "outputs": [
    {
     "data": {
      "text/plain": [
       "array([41, 49, 23, 14,  0, 26,  0, 33,  0, 30,  0, 43,  0,  0, 41])"
      ]
     },
     "execution_count": 59,
     "metadata": {},
     "output_type": "execute_result"
    }
   ],
   "source": [
    "# replace all values > 50 with 0\n",
    "#np.where(condition,true,false)\n",
    "np.where(a>50,0,a)"
   ]
  },
  {
   "cell_type": "code",
   "execution_count": 61,
   "id": "a8f0de72-600a-44fa-9402-dfc8d9d324f4",
   "metadata": {},
   "outputs": [
    {
     "data": {
      "text/plain": [
       "array([41, 49, 23,  0,  0,  0, 87, 33,  0,  0,  0, 43, 79, 67, 41])"
      ]
     },
     "execution_count": 61,
     "metadata": {},
     "output_type": "execute_result"
    }
   ],
   "source": [
    "np.where(a%2 == 0,0,a)"
   ]
  },
  {
   "cell_type": "markdown",
   "id": "164c65bb-f98d-478d-9aad-b7a8cb7bf0e3",
   "metadata": {},
   "source": [
    "## np.argmax\n",
    "\n",
    "The numpy.argmax() function returns indices of the max element of the array in a particular axis.\n",
    "\n",
    "https://numpy.org/doc/stable/reference/generated/numpy.argmax.html"
   ]
  },
  {
   "cell_type": "code",
   "execution_count": 64,
   "id": "30cd3dc4-54c9-4426-884e-c9816ea7b6b7",
   "metadata": {},
   "outputs": [
    {
     "data": {
      "text/plain": [
       "array([41, 49, 23, 14, 94, 26, 87, 33, 90, 30, 62, 43, 79, 67, 41])"
      ]
     },
     "execution_count": 64,
     "metadata": {},
     "output_type": "execute_result"
    }
   ],
   "source": [
    "a"
   ]
  },
  {
   "cell_type": "code",
   "execution_count": 68,
   "id": "3925bc7b-447f-4b68-a5a0-befacf955c0e",
   "metadata": {},
   "outputs": [
    {
     "data": {
      "text/plain": [
       "4"
      ]
     },
     "execution_count": 68,
     "metadata": {},
     "output_type": "execute_result"
    }
   ],
   "source": [
    "# 1D array\n",
    "np.argmax(a)"
   ]
  },
  {
   "cell_type": "code",
   "execution_count": 70,
   "id": "5a32726f-9bd3-4a83-8106-fcd0743e0232",
   "metadata": {},
   "outputs": [
    {
     "data": {
      "text/plain": [
       "array([[29, 19, 34, 27],\n",
       "       [66, 17, 82, 58],\n",
       "       [48, 75, 93, 22],\n",
       "       [39, 76,  1, 49],\n",
       "       [58, 69, 84,  1],\n",
       "       [82, 38, 38, 51]])"
      ]
     },
     "execution_count": 70,
     "metadata": {},
     "output_type": "execute_result"
    }
   ],
   "source": [
    "# 2D array\n",
    "b\n"
   ]
  },
  {
   "cell_type": "code",
   "execution_count": 72,
   "id": "4b5d474b-f4ae-4e08-a4c4-b6a47d881a97",
   "metadata": {},
   "outputs": [
    {
     "data": {
      "text/plain": [
       "array([5, 3, 2, 1], dtype=int64)"
      ]
     },
     "execution_count": 72,
     "metadata": {},
     "output_type": "execute_result"
    }
   ],
   "source": [
    "np.argmax(b,axis=0)  #column-wise"
   ]
  },
  {
   "cell_type": "code",
   "execution_count": 76,
   "id": "0e27c962-9ad8-4074-8b4a-fd12defb2c50",
   "metadata": {},
   "outputs": [
    {
     "data": {
      "text/plain": [
       "array([2, 2, 2, 1, 2, 0], dtype=int64)"
      ]
     },
     "execution_count": 76,
     "metadata": {},
     "output_type": "execute_result"
    }
   ],
   "source": [
    "np.argmax(b,axis=1)  #row-wise index of maximum item"
   ]
  },
  {
   "cell_type": "code",
   "execution_count": 78,
   "id": "e3e956e8-d01e-425d-a476-cd95d00d271e",
   "metadata": {},
   "outputs": [
    {
     "data": {
      "text/plain": [
       "3"
      ]
     },
     "execution_count": 78,
     "metadata": {},
     "output_type": "execute_result"
    }
   ],
   "source": [
    "# np.argmin--> returns index of minimum item \n",
    "np.argmin(a)"
   ]
  },
  {
   "attachments": {
    "668184d3-a6f4-4b03-a853-2803309b4421.png": {
     "image/png": "[encoded data removed]"
    }
   },
   "cell_type": "markdown",
   "id": "62cf7afa-cde2-4cf5-b51e-14ee15c34119",
   "metadata": {},
   "source": [
    "## np.cumsum\n",
    "\n",
    "numpy.cumsum() function is used when we want to compute the cumulative sum of array elements over a given axis.\n",
    "\n",
    "https://numpy.org/doc/stable/reference/generated/numpy.cumsum.html  \n",
    "cumulative sum---![image.png](attachment:668184d3-a6f4-4b03-a853-2803309b4421.png)"
   ]
  },
  {
   "cell_type": "code",
   "execution_count": 83,
   "id": "e984a9a8-d791-4bbd-845a-eb02cb12872b",
   "metadata": {},
   "outputs": [
    {
     "data": {
      "text/plain": [
       "array([41, 49, 23, 14, 94, 26, 87, 33, 90, 30, 62, 43, 79, 67, 41])"
      ]
     },
     "execution_count": 83,
     "metadata": {},
     "output_type": "execute_result"
    }
   ],
   "source": [
    "a"
   ]
  },
  {
   "cell_type": "code",
   "execution_count": 85,
   "id": "0d120493-9084-4861-9ba2-8ed2e2edfb55",
   "metadata": {},
   "outputs": [
    {
     "data": {
      "text/plain": [
       "array([ 41,  90, 113, 127, 221, 247, 334, 367, 457, 487, 549, 592, 671,\n",
       "       738, 779])"
      ]
     },
     "execution_count": 85,
     "metadata": {},
     "output_type": "execute_result"
    }
   ],
   "source": [
    "np.cumsum(a)"
   ]
  },
  {
   "cell_type": "code",
   "execution_count": 91,
   "id": "805ebd29-4562-44ac-b0c9-7d45f3739170",
   "metadata": {},
   "outputs": [
    {
     "data": {
      "text/plain": [
       "array([[29, 19, 34, 27],\n",
       "       [66, 17, 82, 58],\n",
       "       [48, 75, 93, 22],\n",
       "       [39, 76,  1, 49],\n",
       "       [58, 69, 84,  1],\n",
       "       [82, 38, 38, 51]])"
      ]
     },
     "execution_count": 91,
     "metadata": {},
     "output_type": "execute_result"
    }
   ],
   "source": [
    "b"
   ]
  },
  {
   "cell_type": "code",
   "execution_count": 93,
   "id": "ffaeb812-725d-4e30-b82c-f7d163113709",
   "metadata": {},
   "outputs": [
    {
     "data": {
      "text/plain": [
       "array([  29,   48,   82,  109,  175,  192,  274,  332,  380,  455,  548,\n",
       "        570,  609,  685,  686,  735,  793,  862,  946,  947, 1029, 1067,\n",
       "       1105, 1156])"
      ]
     },
     "execution_count": 93,
     "metadata": {},
     "output_type": "execute_result"
    }
   ],
   "source": [
    "np.cumsum(b)"
   ]
  },
  {
   "cell_type": "code",
   "execution_count": 95,
   "id": "6792933f-6434-4c14-9fff-a1136593021d",
   "metadata": {},
   "outputs": [
    {
     "data": {
      "text/plain": [
       "array([[ 29,  19,  34,  27],\n",
       "       [ 95,  36, 116,  85],\n",
       "       [143, 111, 209, 107],\n",
       "       [182, 187, 210, 156],\n",
       "       [240, 256, 294, 157],\n",
       "       [322, 294, 332, 208]])"
      ]
     },
     "execution_count": 95,
     "metadata": {},
     "output_type": "execute_result"
    }
   ],
   "source": [
    "np.cumsum(b,axis=0) #column wise"
   ]
  },
  {
   "cell_type": "code",
   "execution_count": 97,
   "id": "10e4ec67-a512-41cc-b7a6-8b8e45092ef1",
   "metadata": {},
   "outputs": [
    {
     "data": {
      "text/plain": [
       "array([[ 29,  48,  82, 109],\n",
       "       [ 66,  83, 165, 223],\n",
       "       [ 48, 123, 216, 238],\n",
       "       [ 39, 115, 116, 165],\n",
       "       [ 58, 127, 211, 212],\n",
       "       [ 82, 120, 158, 209]])"
      ]
     },
     "execution_count": 97,
     "metadata": {},
     "output_type": "execute_result"
    }
   ],
   "source": [
    "np.cumsum(b,axis=1) #row wise"
   ]
  },
  {
   "cell_type": "code",
   "execution_count": 101,
   "id": "203f3be1-a09e-4244-b1c8-a0c81bf943ed",
   "metadata": {},
   "outputs": [
    {
     "data": {
      "text/plain": [
       "array([         41,        2009,       46207,      646898,    60808412,\n",
       "        1581018712,   109674472,  -675709720,  -684332656,   944856800,\n",
       "       -1548420544,  2137393344,  1350349632,   279112128, -1441304640])"
      ]
     },
     "execution_count": 101,
     "metadata": {},
     "output_type": "execute_result"
    }
   ],
   "source": [
    "# np.cumprod--> gives product\n",
    "np.cumprod(a)"
   ]
  },
  {
   "cell_type": "markdown",
   "id": "869512cb-0b0d-41f6-8101-d4d50f680f43",
   "metadata": {},
   "source": [
    "## np.percentile\n",
    "\n",
    "numpy.percentile() function used to compute the nth percentile of the given data (array elements) along the specified axis. \n",
    "\n",
    "https://numpy.org/doc/stable/reference/generated/numpy.percentile.html"
   ]
  },
  {
   "cell_type": "code",
   "execution_count": 107,
   "id": "7b5f2383-2ec8-420e-82c4-ece352798e4e",
   "metadata": {},
   "outputs": [
    {
     "data": {
      "text/plain": [
       "array([41, 49, 23, 14, 94, 26, 87, 33, 90, 30, 62, 43, 79, 67, 41])"
      ]
     },
     "execution_count": 107,
     "metadata": {},
     "output_type": "execute_result"
    }
   ],
   "source": [
    "a"
   ]
  },
  {
   "cell_type": "code",
   "execution_count": 109,
   "id": "79cffc7a-3a6e-4f12-8887-4271c13fd0aa",
   "metadata": {},
   "outputs": [
    {
     "data": {
      "text/plain": [
       "94.0"
      ]
     },
     "execution_count": 109,
     "metadata": {},
     "output_type": "execute_result"
    }
   ],
   "source": [
    "np.percentile(a,100)"
   ]
  },
  {
   "cell_type": "code",
   "execution_count": 111,
   "id": "c889ca7a-5c65-4589-bf10-c4b047c66516",
   "metadata": {},
   "outputs": [
    {
     "data": {
      "text/plain": [
       "14.0"
      ]
     },
     "execution_count": 111,
     "metadata": {},
     "output_type": "execute_result"
    }
   ],
   "source": [
    "np.percentile(a,0)"
   ]
  },
  {
   "cell_type": "code",
   "execution_count": 113,
   "id": "feca2e7e-ac77-4f76-a6b6-5efd7fac3a19",
   "metadata": {},
   "outputs": [
    {
     "data": {
      "text/plain": [
       "43.0"
      ]
     },
     "execution_count": 113,
     "metadata": {},
     "output_type": "execute_result"
    }
   ],
   "source": [
    "np.percentile(a,50)"
   ]
  },
  {
   "attachments": {
    "c8bd2137-0568-40ef-a1b7-2026d5331eb7.png": {
     "image/png": "[encoded data removed]"
    }
   },
   "cell_type": "markdown",
   "id": "c730890d-b8de-494c-8db9-0d743f714507",
   "metadata": {},
   "source": [
    "## np.histogram\n",
    "\n",
    "Numpy has a built-in numpy.histogram() function which represents the frequency of data distribution in the graphical form.\n",
    "\n",
    "https://numpy.org/doc/stable/reference/generated/numpy.histogram.html\n",
    "\n",
    "![image.png](attachment:c8bd2137-0568-40ef-a1b7-2026d5331eb7.png)"
   ]
  },
  {
   "cell_type": "code",
   "execution_count": 121,
   "id": "c1122f34-aad3-4671-b4b1-30bec5cfe487",
   "metadata": {},
   "outputs": [
    {
     "data": {
      "text/plain": [
       "(array([0, 1, 2, 2, 4, 0, 2, 1, 1, 2], dtype=int64),\n",
       " array([  0,  10,  20,  30,  40,  50,  60,  70,  80,  90, 100]))"
      ]
     },
     "execution_count": 121,
     "metadata": {},
     "output_type": "execute_result"
    }
   ],
   "source": [
    "np.histogram(a,bins=[0,10,20,30,40,50,60,70,80,90,100])"
   ]
  },
  {
   "cell_type": "code",
   "execution_count": 125,
   "id": "2ef4b1a5-2ac2-42ef-af8e-09b7797ffe8e",
   "metadata": {},
   "outputs": [
    {
     "data": {
      "text/plain": [
       "(array([9, 6], dtype=int64), array([  0,  50, 100]))"
      ]
     },
     "execution_count": 125,
     "metadata": {},
     "output_type": "execute_result"
    }
   ],
   "source": [
    "np.histogram(a,bins=[0,50,100])"
   ]
  },
  {
   "cell_type": "markdown",
   "id": "64bfcdf9-b110-4987-a996-9c4f0339bdd2",
   "metadata": {},
   "source": [
    "## np.corrcoef\n",
    "\n",
    "Return Pearson product-moment correlation coefficients.\n",
    "\n",
    "https://numpy.org/doc/stable/reference/generated/numpy.corrcoef.html"
   ]
  },
  {
   "cell_type": "code",
   "execution_count": 128,
   "id": "7d3a8f32-d1dc-4b36-bbc0-5287d9acde79",
   "metadata": {},
   "outputs": [
    {
     "data": {
      "text/plain": [
       "array([[1.        , 0.25344572],\n",
       "       [0.25344572, 1.        ]])"
      ]
     },
     "execution_count": 128,
     "metadata": {},
     "output_type": "execute_result"
    }
   ],
   "source": [
    "salary = np.array([20000,40000,25000,35000,60000])\n",
    "experience = np.array([1,3,2,4,2])\n",
    "\n",
    "np.corrcoef(salary,experience)"
   ]
  },
  {
   "attachments": {
    "8a5dd233-646d-473f-a52e-81f88623e97b.png": {
     "image/png": "[encoded data removed]"
    }
   },
   "cell_type": "markdown",
   "id": "88a2f5b3-badd-4269-93bb-26897eb82935",
   "metadata": {},
   "source": [
    "![image.png](attachment:8a5dd233-646d-473f-a52e-81f88623e97b.png)\n"
   ]
  },
  {
   "cell_type": "markdown",
   "id": "e4d91832-9b04-4ca2-9749-195655cd60e2",
   "metadata": {},
   "source": [
    "## np.isin\n",
    "\n",
    "With the help of numpy.isin() method, we can see that one array having values are checked in a different numpy array having different elements with different sizes.\n",
    "\n",
    "https://numpy.org/doc/stable/reference/generated/numpy.isin.html"
   ]
  },
  {
   "cell_type": "code",
   "execution_count": 132,
   "id": "96a0f235-b99c-4a8f-b369-6fe1485a8ce4",
   "metadata": {},
   "outputs": [
    {
     "data": {
      "text/plain": [
       "array([41, 49, 23, 14, 94, 26, 87, 33, 90, 30, 62, 43, 79, 67, 41])"
      ]
     },
     "execution_count": 132,
     "metadata": {},
     "output_type": "execute_result"
    }
   ],
   "source": [
    "# code\n",
    "a\n"
   ]
  },
  {
   "cell_type": "code",
   "execution_count": 134,
   "id": "40b696db-25c9-4472-814a-f94bf06a2d5d",
   "metadata": {},
   "outputs": [
    {
     "data": {
      "text/plain": [
       "array([90, 30])"
      ]
     },
     "execution_count": 134,
     "metadata": {},
     "output_type": "execute_result"
    }
   ],
   "source": [
    "items = [10,20,30,40,50,60,70,80,90,100]\n",
    "\n",
    "a[np.isin(a,items)]"
   ]
  },
  {
   "cell_type": "markdown",
   "id": "4b11939f-152d-4228-a694-0ec8a745a347",
   "metadata": {},
   "source": [
    "## np.flip\n",
    "(mirror image)  \n",
    "The numpy.flip() function reverses the order of array elements along the specified axis, preserving the shape of the array.\n",
    "\n",
    "https://numpy.org/doc/stable/reference/generated/numpy.flip.html"
   ]
  },
  {
   "cell_type": "code",
   "execution_count": 145,
   "id": "b1d74fcf-cbe7-4d77-8fc0-1e13715a4a13",
   "metadata": {},
   "outputs": [
    {
     "data": {
      "text/plain": [
       "array([41, 49, 23, 14, 94, 26, 87, 33, 90, 30, 62, 43, 79, 67, 41])"
      ]
     },
     "execution_count": 145,
     "metadata": {},
     "output_type": "execute_result"
    }
   ],
   "source": [
    "# code\n",
    "a"
   ]
  },
  {
   "cell_type": "code",
   "execution_count": 147,
   "id": "d551fced-a750-400a-979d-fbe46c759c1e",
   "metadata": {},
   "outputs": [
    {
     "data": {
      "text/plain": [
       "array([41, 67, 79, 43, 62, 30, 90, 33, 87, 26, 94, 14, 23, 49, 41])"
      ]
     },
     "execution_count": 147,
     "metadata": {},
     "output_type": "execute_result"
    }
   ],
   "source": [
    "np.flip(a)"
   ]
  },
  {
   "cell_type": "code",
   "execution_count": 149,
   "id": "c7e52fc8-806e-4064-99c3-e693a2002761",
   "metadata": {},
   "outputs": [
    {
     "data": {
      "text/plain": [
       "array([[29, 19, 34, 27],\n",
       "       [66, 17, 82, 58],\n",
       "       [48, 75, 93, 22],\n",
       "       [39, 76,  1, 49],\n",
       "       [58, 69, 84,  1],\n",
       "       [82, 38, 38, 51]])"
      ]
     },
     "execution_count": 149,
     "metadata": {},
     "output_type": "execute_result"
    }
   ],
   "source": [
    "b"
   ]
  },
  {
   "cell_type": "code",
   "execution_count": 153,
   "id": "569b74c5-a1a3-43f0-8544-c37399c8a2f8",
   "metadata": {},
   "outputs": [
    {
     "data": {
      "text/plain": [
       "array([[51, 38, 38, 82],\n",
       "       [ 1, 84, 69, 58],\n",
       "       [49,  1, 76, 39],\n",
       "       [22, 93, 75, 48],\n",
       "       [58, 82, 17, 66],\n",
       "       [27, 34, 19, 29]])"
      ]
     },
     "execution_count": 153,
     "metadata": {},
     "output_type": "execute_result"
    }
   ],
   "source": [
    "np.flip(b)"
   ]
  },
  {
   "cell_type": "code",
   "execution_count": 157,
   "id": "0e480a88-fac4-4005-91f4-c607ea179f12",
   "metadata": {},
   "outputs": [
    {
     "data": {
      "text/plain": [
       "array([[27, 34, 19, 29],\n",
       "       [58, 82, 17, 66],\n",
       "       [22, 93, 75, 48],\n",
       "       [49,  1, 76, 39],\n",
       "       [ 1, 84, 69, 58],\n",
       "       [51, 38, 38, 82]])"
      ]
     },
     "execution_count": 157,
     "metadata": {},
     "output_type": "execute_result"
    }
   ],
   "source": [
    "np.flip(b,axis=1) #row wise"
   ]
  },
  {
   "cell_type": "code",
   "execution_count": 159,
   "id": "93c4ee54-102b-4b7d-a71f-f3e57042dd64",
   "metadata": {},
   "outputs": [
    {
     "data": {
      "text/plain": [
       "array([[27, 34, 19, 29],\n",
       "       [58, 82, 17, 66],\n",
       "       [22, 93, 75, 48],\n",
       "       [49,  1, 76, 39],\n",
       "       [ 1, 84, 69, 58],\n",
       "       [51, 38, 38, 82]])"
      ]
     },
     "execution_count": 159,
     "metadata": {},
     "output_type": "execute_result"
    }
   ],
   "source": [
    "np.flip(b,axis=1) #column wise"
   ]
  },
  {
   "cell_type": "markdown",
   "id": "1c38c532-3b5a-4098-97e3-f7d0294d5673",
   "metadata": {},
   "source": [
    "## np.put\n",
    "\n",
    "The numpy.put() function replaces specific elements of an array with given values of p_array. Array indexed works on flattened array. \n",
    "\n",
    "https://numpy.org/doc/stable/reference/generated/numpy.put.html"
   ]
  },
  {
   "cell_type": "code",
   "execution_count": 162,
   "id": "0b56d0a5-e4a1-40e1-9b78-300ca9a510ac",
   "metadata": {},
   "outputs": [
    {
     "data": {
      "text/plain": [
       "array([41, 49, 23, 14, 94, 26, 87, 33, 90, 30, 62, 43, 79, 67, 41])"
      ]
     },
     "execution_count": 162,
     "metadata": {},
     "output_type": "execute_result"
    }
   ],
   "source": [
    "a"
   ]
  },
  {
   "cell_type": "code",
   "execution_count": 171,
   "id": "fbaeb56f-e12c-4d6c-a951-4aa2e4e12516",
   "metadata": {},
   "outputs": [
    {
     "data": {
      "text/plain": [
       "array([110, 530,  23,  14,  94,  26,  87,  33,  90,  30,  62,  43,  79,\n",
       "        67,  41])"
      ]
     },
     "execution_count": 171,
     "metadata": {},
     "output_type": "execute_result"
    }
   ],
   "source": [
    "np.put(a,[0,1],[110,530])   #permanent changes in array\n",
    "a"
   ]
  },
  {
   "cell_type": "markdown",
   "id": "2a8286d4-368d-417f-a3d3-0518b3593a54",
   "metadata": {},
   "source": [
    "## np.delete\n",
    "\n",
    "The numpy.delete() function returns a new array with the deletion of sub-arrays along with the mentioned axis. \n",
    "\n",
    "https://numpy.org/doc/stable/reference/generated/numpy.delete.html"
   ]
  },
  {
   "cell_type": "code",
   "execution_count": 174,
   "id": "34976330-73a1-48d3-b5e5-5f69dc695211",
   "metadata": {},
   "outputs": [
    {
     "data": {
      "text/plain": [
       "array([110, 530,  23,  14,  94,  26,  87,  33,  90,  30,  62,  43,  79,\n",
       "        67,  41])"
      ]
     },
     "execution_count": 174,
     "metadata": {},
     "output_type": "execute_result"
    }
   ],
   "source": [
    "a"
   ]
  },
  {
   "cell_type": "code",
   "execution_count": 180,
   "id": "e105ab38-bec7-4020-af6c-6730e9d4d51e",
   "metadata": {},
   "outputs": [
    {
     "data": {
      "text/plain": [
       "array([530,  23,  14,  94,  26,  87,  33,  90,  30,  62,  43,  79,  67,\n",
       "        41])"
      ]
     },
     "execution_count": 180,
     "metadata": {},
     "output_type": "execute_result"
    }
   ],
   "source": [
    "np.delete(a,0) #single item"
   ]
  },
  {
   "cell_type": "code",
   "execution_count": 182,
   "id": "ae92113f-e986-4dab-b30f-f854d77c8cc0",
   "metadata": {},
   "outputs": [
    {
     "data": {
      "text/plain": [
       "array([530,  14,  26,  87,  33,  90,  30,  62,  43,  79,  67,  41])"
      ]
     },
     "execution_count": 182,
     "metadata": {},
     "output_type": "execute_result"
    }
   ],
   "source": [
    "np.delete(a,[0,2,4]) #multiple item"
   ]
  },
  {
   "cell_type": "markdown",
   "id": "fc14ebbe-c8f6-4152-b0aa-f29f484da84e",
   "metadata": {},
   "source": [
    "## Set functions\n",
    "\n",
    "- np.union1d\n",
    "- np.intersect1d\n",
    "- np.setdiff1d\n",
    "- np.setxor1d\n",
    "- np.in1d  \n",
    "(returns numpy array)"
   ]
  },
  {
   "cell_type": "code",
   "execution_count": 192,
   "id": "11ab18f7-ebf1-475d-bfd4-2ec955aef83d",
   "metadata": {},
   "outputs": [
    {
     "data": {
      "text/plain": [
       "array([1, 2, 3, 4, 5, 6, 7])"
      ]
     },
     "execution_count": 192,
     "metadata": {},
     "output_type": "execute_result"
    }
   ],
   "source": [
    "m = np.array([1,2,3,4,5])\n",
    "n = np.array([3,4,5,6,7])\n",
    "\n",
    "np.union1d(m,n)"
   ]
  },
  {
   "cell_type": "code",
   "execution_count": 194,
   "id": "f6aa8ac7-d282-4959-b01c-849f7873fa6b",
   "metadata": {},
   "outputs": [
    {
     "data": {
      "text/plain": [
       "array([3, 4, 5])"
      ]
     },
     "execution_count": 194,
     "metadata": {},
     "output_type": "execute_result"
    }
   ],
   "source": [
    "np.intersect1d(m,n)"
   ]
  },
  {
   "cell_type": "code",
   "execution_count": 196,
   "id": "aaf5ea99-99fe-4955-bccd-332aede7ba26",
   "metadata": {},
   "outputs": [
    {
     "data": {
      "text/plain": [
       "array([6, 7])"
      ]
     },
     "execution_count": 196,
     "metadata": {},
     "output_type": "execute_result"
    }
   ],
   "source": [
    "np.setdiff1d(n,m)"
   ]
  },
  {
   "cell_type": "code",
   "execution_count": 200,
   "id": "80bfb024-5748-4613-bc25-7fa9afb567bf",
   "metadata": {},
   "outputs": [
    {
     "data": {
      "text/plain": [
       "array([1, 2, 6, 7])"
      ]
     },
     "execution_count": 200,
     "metadata": {},
     "output_type": "execute_result"
    }
   ],
   "source": [
    "np.setxor1d(m,n) #removes common elements"
   ]
  },
  {
   "cell_type": "code",
   "execution_count": 204,
   "id": "0cd33a40-0059-4f86-bd13-a6c7188ea8b9",
   "metadata": {},
   "outputs": [
    {
     "data": {
      "text/plain": [
       "array([1])"
      ]
     },
     "execution_count": 204,
     "metadata": {},
     "output_type": "execute_result"
    }
   ],
   "source": [
    "m[np.in1d(m,1)] # "
   ]
  },
  {
   "cell_type": "markdown",
   "id": "3ed228bb-5575-46cd-a579-b4cbbf0576ad",
   "metadata": {},
   "source": [
    "## np.clip\n",
    "\n",
    "numpy.clip() function is used to Clip (limit) the values in an array.\n",
    "\n",
    "https://numpy.org/doc/stable/reference/generated/numpy.clip.html"
   ]
  },
  {
   "cell_type": "code",
   "execution_count": 209,
   "id": "bc37cb90-8640-495c-b2ff-b72be1207d87",
   "metadata": {},
   "outputs": [
    {
     "data": {
      "text/plain": [
       "array([75, 75, 25, 25, 75, 26, 75, 33, 75, 30, 62, 43, 75, 67, 41])"
      ]
     },
     "execution_count": 209,
     "metadata": {},
     "output_type": "execute_result"
    }
   ],
   "source": [
    "np.clip(a,a_min=25,a_max=75)"
   ]
  },
  {
   "cell_type": "code",
   "execution_count": null,
   "id": "ef70371d-6fa3-4704-ace9-460448e16bae",
   "metadata": {},
   "outputs": [],
   "source": []
  }
 ],
 "metadata": {
  "kernelspec": {
   "display_name": "Python [conda env:base] *",
   "language": "python",
   "name": "conda-base-py"
  },
  "language_info": {
   "codemirror_mode": {
    "name": "ipython",
    "version": 3
   },
   "file_extension": ".py",
   "mimetype": "text/x-python",
   "name": "python",
   "nbconvert_exporter": "python",
   "pygments_lexer": "ipython3",
   "version": "3.12.7"
  }
 },
 "nbformat": 4,
 "nbformat_minor": 5
}
