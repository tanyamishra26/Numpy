{
 "cells": [
  {
   "cell_type": "markdown",
   "id": "03979a3d-d039-40bc-9b60-f91c80f1d1af",
   "metadata": {},
   "source": [
    "# NUMPY\n",
    "NumPy is the fundamental package for scientific computing in Python. It is a Python library that provides a multidimensional array object, various derived objects (such as masked arrays and matrices), and an assortment of routines for fast operations on arrays, including mathematical, logical, shape manipulation, sorting, selecting, I/O, discrete Fourier transforms, basic linear algebra, basic statistical operations, random simulation and much more.\n",
    "\n",
    "At the core of the NumPy package, is the ndarray object. This encapsulates n-dimensional arrays of homogeneous data types.\n",
    "### What is a NumPy Array?\n",
    "A NumPy array is a powerful data structure provided by the NumPy (Numerical Python) library. It is similar to a Python list but optimized for numerical computations, making it faster, more memory-efficient, and more convenient for mathematical operations.\n",
    "#### Key Features of NumPy Arrays\n",
    "* **Homogeneous Data** – All elements in a NumPy array must be of the same data type (e.g., integers, floats, etc.).\n",
    "\n",
    "* **Faster than Lists** – NumPy arrays are optimized for speed and use less memory compared to Python lists.\n",
    "\n",
    "* **Supports Multi-Dimensional Data** – You can create 1D (vectors), 2D (matrices), or ND (multi-dimensional) arrays.\n",
    "\n",
    "* **Efficient Mathematical Operations** – Supports vectorized operations (e.g., element-wise addition, multiplication).\n",
    "\n",
    "* **Convenient Indexing and Slicing** – Similar to Python lists but more powerful.\n",
    "\n",
    "### Numpy Arrays Vs Python Sequences\n",
    "* NumPy arrays have a fixed size at creation, unlike Python lists (which can grow dynamically). Changing the size of an ndarray will create a new array and delete the original.\n",
    "\n",
    "* The elements in a NumPy array are all required to be of the same data type, and thus will be the same size in memory.\n",
    "\n",
    "* NumPy arrays facilitate advanced mathematical and other types of operations on large numbers of data. Typically, such operations are executed more efficiently and with less code than is possible using Python’s built-in sequences.\n",
    "\n",
    "* A growing plethora of scientific and mathematical Python-based packages are using NumPy arrays; though these typically support Python-sequence input, they convert such input to NumPy arrays prior to processing, and they often output NumPy arrays."
   ]
  },
  {
   "cell_type": "markdown",
   "id": "9d6e58cf-96be-4145-ada1-e7b2ece27127",
   "metadata": {},
   "source": [
    "## How to import NumPy"
   ]
  },
  {
   "cell_type": "code",
   "execution_count": 10,
   "id": "7b2778c1-f622-4652-ac05-9434aab3af2d",
   "metadata": {},
   "outputs": [],
   "source": [
    "import numpy as np"
   ]
  },
  {
   "cell_type": "markdown",
   "id": "f27fc983-4e8b-46ef-b124-b77317cdebc6",
   "metadata": {},
   "source": [
    "## Creating NumPy Arrays\n"
   ]
  },
  {
   "cell_type": "markdown",
   "id": "44927772-bc36-4dce-8776-80a32ccb0d60",
   "metadata": {},
   "source": [
    "**Creating an array from a list**  \n",
    "By using array()\n",
    "This function converts python lists or tuple into Numpy arrays."
   ]
  },
  {
   "cell_type": "code",
   "execution_count": 39,
   "id": "ee011126-8f28-446e-85da-270774e23e65",
   "metadata": {},
   "outputs": [
    {
     "name": "stdout",
     "output_type": "stream",
     "text": [
      "[1 2 3 4 5]\n"
     ]
    }
   ],
   "source": [
    "# 1D array\n",
    "a = np.array([1, 2, 3, 4, 5])\n",
    "print(a)"
   ]
  },
  {
   "cell_type": "markdown",
   "id": "3f797487-ba29-49c8-9d89-2df54e02a236",
   "metadata": {},
   "source": [
    "**Multidimensional Array**"
   ]
  },
  {
   "cell_type": "code",
   "execution_count": 16,
   "id": "d645916a-daae-4cc8-9748-3b6096cf2422",
   "metadata": {},
   "outputs": [
    {
     "name": "stdout",
     "output_type": "stream",
     "text": [
      "[[1 2 3]\n",
      " [4 5 6]]\n"
     ]
    }
   ],
   "source": [
    "# 2D array\n",
    "b = np.array([[1,2,3],[4,5,6]])\n",
    "print(b)"
   ]
  },
  {
   "cell_type": "code",
   "execution_count": 20,
   "id": "9b33b667-e9ea-41ee-9e11-f394e92d0159",
   "metadata": {},
   "outputs": [
    {
     "name": "stdout",
     "output_type": "stream",
     "text": [
      "[[[1 2]\n",
      "  [3 4]]\n",
      "\n",
      " [[5 6]\n",
      "  [7 8]]]\n"
     ]
    }
   ],
   "source": [
    "# 3D array\n",
    "c = np.array([[[1,2],[3,4]],[[5,6],[7,8]]])\n",
    "print(c)"
   ]
  },
  {
   "cell_type": "markdown",
   "id": "37c1d284-93c9-468f-97da-83cde9b80708",
   "metadata": {},
   "source": [
    "### Array creation functions"
   ]
  },
  {
   "cell_type": "markdown",
   "id": "bb0b535f-9d3c-441a-892d-d92ff408de84",
   "metadata": {},
   "source": [
    "- **np.arange**  \n",
    "Creates an array with values within a specified range."
   ]
  },
  {
   "cell_type": "code",
   "execution_count": 41,
   "id": "f6b4014f-8ed3-4eab-a42a-971f9960b465",
   "metadata": {},
   "outputs": [
    {
     "data": {
      "text/plain": [
       "array([0, 1, 2])"
      ]
     },
     "execution_count": 41,
     "metadata": {},
     "output_type": "execute_result"
    }
   ],
   "source": [
    "# Create an array with 3 integers, starting from the default integer 0.\n",
    "np.arange(3)"
   ]
  },
  {
   "cell_type": "markdown",
   "id": "06cfccd0-75fb-46de-94d5-ef7660847916",
   "metadata": {},
   "source": [
    "* **arange with reshape**   \n",
    "Changes the shape of an array."
   ]
  },
  {
   "cell_type": "code",
   "execution_count": 44,
   "id": "33a95fcc-1668-43ea-a9e6-60d8a38113d0",
   "metadata": {},
   "outputs": [
    {
     "data": {
      "text/plain": [
       "array([[[[ 0,  1],\n",
       "         [ 2,  3]],\n",
       "\n",
       "        [[ 4,  5],\n",
       "         [ 6,  7]]],\n",
       "\n",
       "\n",
       "       [[[ 8,  9],\n",
       "         [10, 11]],\n",
       "\n",
       "        [[12, 13],\n",
       "         [14, 15]]]])"
      ]
     },
     "execution_count": 44,
     "metadata": {},
     "output_type": "execute_result"
    }
   ],
   "source": [
    "np.arange(16).reshape(2,2,2,2)\n"
   ]
  },
  {
   "cell_type": "markdown",
   "id": "ec2ea79d-032f-4a38-b6e6-9834e8e62f6a",
   "metadata": {},
   "source": [
    "* **np.ones**  \n",
    "Creates an array filled with ones"
   ]
  },
  {
   "cell_type": "code",
   "execution_count": 50,
   "id": "c8ef448a-369c-4bae-a445-2d62dd4825ea",
   "metadata": {},
   "outputs": [
    {
     "data": {
      "text/plain": [
       "array([[1., 1., 1., 1.],\n",
       "       [1., 1., 1., 1.],\n",
       "       [1., 1., 1., 1.]])"
      ]
     },
     "execution_count": 50,
     "metadata": {},
     "output_type": "execute_result"
    }
   ],
   "source": [
    "np.ones((3,4))"
   ]
  },
  {
   "cell_type": "markdown",
   "id": "cbf6e3fe-20e2-476d-9000-bc93a794379b",
   "metadata": {},
   "source": [
    "- **np.zeros**   \n",
    "  Creates an array filled with zeros"
   ]
  },
  {
   "cell_type": "code",
   "execution_count": 55,
   "id": "031b829c-26d2-47f0-9706-08746b7e5f3c",
   "metadata": {},
   "outputs": [
    {
     "data": {
      "text/plain": [
       "array([[0., 0., 0., 0.],\n",
       "       [0., 0., 0., 0.],\n",
       "       [0., 0., 0., 0.]])"
      ]
     },
     "execution_count": 55,
     "metadata": {},
     "output_type": "execute_result"
    }
   ],
   "source": [
    "np.zeros((3,4))"
   ]
  },
  {
   "cell_type": "markdown",
   "id": "3137f1f1-b3aa-447c-b2b9-8be23e52799c",
   "metadata": {},
   "source": [
    "* **np.random**  \n",
    "  Generates random numbers between 0 and 1."
   ]
  },
  {
   "cell_type": "code",
   "execution_count": 58,
   "id": "21cca933-d35e-4d8e-a2b8-abd9c639b68f",
   "metadata": {},
   "outputs": [
    {
     "data": {
      "text/plain": [
       "array([[0.80960024, 0.13064207, 0.99327487, 0.66032661],\n",
       "       [0.7981267 , 0.10770004, 0.21406162, 0.72760439],\n",
       "       [0.63620808, 0.28573679, 0.3767902 , 0.33044058]])"
      ]
     },
     "execution_count": 58,
     "metadata": {},
     "output_type": "execute_result"
    }
   ],
   "source": [
    "np.random.random((3,4))"
   ]
  },
  {
   "cell_type": "markdown",
   "id": "688576b5-34a7-4873-87fe-bf21b1c4b88e",
   "metadata": {},
   "source": [
    "*  **np.linspace(start, stop, num=50)**   \n",
    "Creates an array with evenly spaced values between a range.   \n",
    "*Parameters*\n",
    "* start: The starting value of the sequence\n",
    "* stop: The ending value of the sequence\n",
    "* num(optional): The number of samples to generate(default is 50)"
   ]
  },
  {
   "cell_type": "code",
   "execution_count": 66,
   "id": "40df4d34-16fb-440e-a115-3feb9304132a",
   "metadata": {},
   "outputs": [
    {
     "data": {
      "text/plain": [
       "array([-10.        ,  -7.77777778,  -5.55555556,  -3.33333333,\n",
       "        -1.11111111,   1.11111111,   3.33333333,   5.55555556,\n",
       "         7.77777778,  10.        ])"
      ]
     },
     "execution_count": 66,
     "metadata": {},
     "output_type": "execute_result"
    }
   ],
   "source": [
    "np.linspace(-10,10,10)"
   ]
  },
  {
   "cell_type": "markdown",
   "id": "c5f92a3d-4052-41ff-bc41-16a1637584bc",
   "metadata": {},
   "source": [
    "* **np.identity**  \n",
    "  Creates an identity matrix"
   ]
  },
  {
   "cell_type": "code",
   "execution_count": 69,
   "id": "01cb2205-9e11-4055-91d5-d5389733eb0a",
   "metadata": {},
   "outputs": [
    {
     "data": {
      "text/plain": [
       "array([[1, 0, 0],\n",
       "       [0, 1, 0],\n",
       "       [0, 0, 1]])"
      ]
     },
     "execution_count": 69,
     "metadata": {},
     "output_type": "execute_result"
    }
   ],
   "source": [
    "np.identity(3,dtype=int)"
   ]
  },
  {
   "cell_type": "markdown",
   "id": "476698c1-39b5-4e5e-80dc-1f807136b4c1",
   "metadata": {},
   "source": [
    "### Array Attributes  \n",
    "In NumPy, arrays have several important attributes that provide useful information about the structure and properties of the array. Here are the key attributes:"
   ]
  },
  {
   "cell_type": "code",
   "execution_count": 75,
   "id": "a5e7da76-70cb-4eed-8544-3d27358ed57b",
   "metadata": {},
   "outputs": [],
   "source": [
    "a1=np.arange(10)\n",
    "a2=np.arange(12,dtype=float).reshape(3,4)\n",
    "a3=np.arange(8).reshape(2,2,2)"
   ]
  },
  {
   "cell_type": "markdown",
   "id": "8d7a8c2e-c6fe-469d-9695-165560173976",
   "metadata": {},
   "source": [
    "* **ndim**    \n",
    "Returns the number of dimensions of array.\n"
   ]
  },
  {
   "cell_type": "code",
   "execution_count": 77,
   "id": "4bf643cd-373f-411a-abb0-a6346ba89d51",
   "metadata": {},
   "outputs": [
    {
     "data": {
      "text/plain": [
       "2"
      ]
     },
     "execution_count": 77,
     "metadata": {},
     "output_type": "execute_result"
    }
   ],
   "source": [
    "a2.ndim"
   ]
  },
  {
   "cell_type": "markdown",
   "id": "24e6a258-140d-410e-a40c-d2386d4d4e62",
   "metadata": {},
   "source": [
    "* **shape**   \n",
    "Returns a tuple representing the number of elements along each axis."
   ]
  },
  {
   "cell_type": "code",
   "execution_count": 86,
   "id": "b261ae3f-74c9-441c-a19a-b67ec320b410",
   "metadata": {},
   "outputs": [
    {
     "data": {
      "text/plain": [
       "(2, 2, 2)"
      ]
     },
     "execution_count": 86,
     "metadata": {},
     "output_type": "execute_result"
    }
   ],
   "source": [
    "a3.shape"
   ]
  },
  {
   "cell_type": "markdown",
   "id": "7ca8f482-d5fd-49b7-8ae6-bf0c471f4598",
   "metadata": {},
   "source": [
    "* **size**   \n",
    "Returns the total number of elements in the array."
   ]
  },
  {
   "cell_type": "code",
   "execution_count": 89,
   "id": "468b432e-dfdf-40ef-821f-37426842c060",
   "metadata": {},
   "outputs": [
    {
     "name": "stdout",
     "output_type": "stream",
     "text": [
      "10\n",
      "12\n",
      "8\n"
     ]
    }
   ],
   "source": [
    "print(a1.size)\n",
    "print(a2.size)\n",
    "print(a3.size)"
   ]
  },
  {
   "cell_type": "markdown",
   "id": "edd74847-e714-48bb-9d0c-7c2c4a610a3d",
   "metadata": {},
   "source": [
    "* **dtype**   \n",
    "Returns the datatype of elements in the array."
   ]
  },
  {
   "cell_type": "code",
   "execution_count": 93,
   "id": "ff591d36-c369-451a-83b5-0073d874b554",
   "metadata": {},
   "outputs": [
    {
     "name": "stdout",
     "output_type": "stream",
     "text": [
      "int32\n",
      "float64\n",
      "int32\n"
     ]
    }
   ],
   "source": [
    "print(a1.dtype)\n",
    "print(a2.dtype)\n",
    "print(a3.dtype) "
   ]
  },
  {
   "cell_type": "markdown",
   "id": "49bab894-7981-4c38-a67a-fa33e5a52f06",
   "metadata": {},
   "source": [
    "* **itemsize**   \n",
    "Returns the size(in bytes) of an element in the array."
   ]
  },
  {
   "cell_type": "code",
   "execution_count": 98,
   "id": "53da0fc1-1019-4301-afd6-e75ec1887ac6",
   "metadata": {},
   "outputs": [
    {
     "data": {
      "text/plain": [
       "4"
      ]
     },
     "execution_count": 98,
     "metadata": {},
     "output_type": "execute_result"
    }
   ],
   "source": [
    "a3.itemsize"
   ]
  },
  {
   "cell_type": "markdown",
   "id": "3eb304b5-ba15-487e-877f-351820f4757c",
   "metadata": {},
   "source": [
    "### Changing Dataype\n",
    "In NumPy, you can change the data type of an array using several methods"
   ]
  },
  {
   "cell_type": "markdown",
   "id": "aed35d86-76d0-497d-8cb3-16a36d8cf41e",
   "metadata": {},
   "source": [
    "* **Using astype**   \n",
    "  The .astype() method allows you to create a new array with the desired data type."
   ]
  },
  {
   "cell_type": "code",
   "execution_count": 103,
   "id": "df18e329-fb72-44d5-bfc1-703b869f9ea0",
   "metadata": {},
   "outputs": [
    {
     "data": {
      "text/plain": [
       "array([[[0, 1],\n",
       "        [2, 3]],\n",
       "\n",
       "       [[4, 5],\n",
       "        [6, 7]]])"
      ]
     },
     "execution_count": 103,
     "metadata": {},
     "output_type": "execute_result"
    }
   ],
   "source": [
    "a3.astype(np.int32)"
   ]
  },
  {
   "cell_type": "markdown",
   "id": "4b94462f-2dac-46ee-b2e0-8c2ca8fbdb16",
   "metadata": {},
   "source": [
    "* **Using dtype**   \n",
    "You can specify the desired data type when creating an array."
   ]
  },
  {
   "cell_type": "code",
   "execution_count": 110,
   "id": "b27482f4-8fec-46b5-90b4-7c23d8c8f488",
   "metadata": {},
   "outputs": [
    {
     "name": "stdout",
     "output_type": "stream",
     "text": [
      "float32\n"
     ]
    }
   ],
   "source": [
    "arr = np.array([1, 2, 3], dtype=np.float32)\n",
    "print(arr.dtype)"
   ]
  },
  {
   "cell_type": "markdown",
   "id": "0d156489-cb56-4b57-a129-413585ded671",
   "metadata": {},
   "source": [
    "### Array Math Operations"
   ]
  },
  {
   "cell_type": "markdown",
   "id": "f1d25838-aaf6-44cb-a2fa-65057b0c08d2",
   "metadata": {},
   "source": [
    "* **Element-wise Operations**  \n",
    "  NumPy performs operations element-by-element for arrays of the same shape."
   ]
  },
  {
   "cell_type": "code",
   "execution_count": 114,
   "id": "617ee9c8-0bdd-461e-87c2-2ab069ef7aff",
   "metadata": {},
   "outputs": [
    {
     "name": "stdout",
     "output_type": "stream",
     "text": [
      "[ 3  7 11]\n",
      "[1 1 1]\n",
      "[ 2 12 30]\n"
     ]
    }
   ],
   "source": [
    "arr_1 = np.array([2, 4, 6])\n",
    "arr_2 = np.array([1, 3, 5])\n",
    "\n",
    "# Adding two 1-D arrays\n",
    "addition = arr_1 + arr_2\n",
    "print(addition)\n",
    "\n",
    "# Subtracting two 1-D arrays\n",
    "subtraction = arr_1 - arr_2\n",
    "print(subtraction)\n",
    "\n",
    "# Multiplying two 1-D arrays elementwise\n",
    "multiplication = arr_1 * arr_2\n",
    "print(multiplication)"
   ]
  },
  {
   "cell_type": "markdown",
   "id": "79492259-e462-4ebd-a740-091c2a63c625",
   "metadata": {},
   "source": [
    "* **Multiplying vector with a scalar (broadcasting)**\n",
    "  "
   ]
  },
  {
   "cell_type": "code",
   "execution_count": 121,
   "id": "8478eb5f-49bf-4213-b882-f59f8bb3a369",
   "metadata": {},
   "outputs": [
    {
     "name": "stdout",
     "output_type": "stream",
     "text": [
      "[[  0   1   4   9]\n",
      " [ 16  25  36  49]\n",
      " [ 64  81 100 121]]\n",
      "[[ 2  3  4  5]\n",
      " [ 6  7  8  9]\n",
      " [10 11 12 13]]\n",
      "[[-2 -1  0  1]\n",
      " [ 2  3  4  5]\n",
      " [ 6  7  8  9]]\n",
      "[[ 0  2  4  6]\n",
      " [ 8 10 12 14]\n",
      " [16 18 20 22]]\n"
     ]
    }
   ],
   "source": [
    "a1 = np.arange(12).reshape(3,4)\n",
    "a2 = np.arange(12,24).reshape(3,4)\n",
    "print(a1 ** 2)\n",
    "print(a1+2)\n",
    "print(a1-2)\n",
    "print(a1*2)\n"
   ]
  },
  {
   "cell_type": "code",
   "execution_count": 123,
   "id": "b0190686-28d1-4c7a-9a0a-d29c0dca9fa8",
   "metadata": {},
   "outputs": [
    {
     "name": "stdout",
     "output_type": "stream",
     "text": [
      "[[False False False  True]\n",
      " [False False False False]\n",
      " [False False False False]]\n",
      "[[False False False False]\n",
      " [ True  True  True  True]\n",
      " [ True  True  True  True]]\n",
      "[[ True  True  True False]\n",
      " [ True  True  True  True]\n",
      " [ True  True  True  True]]\n"
     ]
    }
   ],
   "source": [
    "# relational\n",
    "print(a2 == 15)\n",
    "print(a2>15)\n",
    "print(a2!=15)"
   ]
  },
  {
   "cell_type": "markdown",
   "id": "93507581-275c-4f3c-8412-076b7c307ae8",
   "metadata": {},
   "source": [
    "* **Aggregate Functions**   \n",
    "  NumPy provides functions to compute statistics across an array."
   ]
  },
  {
   "cell_type": "code",
   "execution_count": 133,
   "id": "2c08704e-7360-4207-873d-f444ba5aeb04",
   "metadata": {},
   "outputs": [
    {
     "name": "stdout",
     "output_type": "stream",
     "text": [
      "15\n",
      "15\n",
      "5\n",
      "1\n"
     ]
    }
   ],
   "source": [
    "a1 = np.random.random((3,3))\n",
    "# max/min/sum/prod\n",
    "# 0 -> col and 1 -> row\n",
    "np.prod(a1,axis=0)      # (column-wise product)\n",
    "print(np.sum(a))        #  (Sum of all elements)\n",
    "print(np.sum(a, axis=0)) # (Column-wise sum)\n",
    "print(np.max(a))        # 21 (max from all elements)\n",
    "print(np.min(a, axis=0)) # [5 7 9] (Column-wise min)\n",
    "\n"
   ]
  },
  {
   "cell_type": "code",
   "execution_count": 135,
   "id": "9d14d1b4-2645-4b63-971b-2963d7155ec1",
   "metadata": {},
   "outputs": [
    {
     "name": "stdout",
     "output_type": "stream",
     "text": [
      "3.0\n",
      "3.0\n",
      "1.4142135623730951\n",
      "2.0\n"
     ]
    }
   ],
   "source": [
    "# mean/median/std/var\n",
    "print(np.mean(a))       # (Mean)\n",
    "print(np.median(a))     # (Median)\n",
    "print(np.std(a))        # (Standard deviation)\n",
    "print(np.var(a))       # (Variance)\n"
   ]
  },
  {
   "cell_type": "code",
   "execution_count": 137,
   "id": "1e250b18-11e4-4c58-a5a3-1c0e42f26c71",
   "metadata": {},
   "outputs": [
    {
     "data": {
      "text/plain": [
       "array([[0.83721297, 0.4780622 , 0.42715734],\n",
       "       [0.71052875, 0.03133344, 0.6929207 ],\n",
       "       [0.69027195, 0.04835909, 0.78642379]])"
      ]
     },
     "execution_count": 137,
     "metadata": {},
     "output_type": "execute_result"
    }
   ],
   "source": [
    "# trigonomoetric functions\n",
    "np.sin(a1)"
   ]
  },
  {
   "cell_type": "code",
   "execution_count": 139,
   "id": "8d3428fb-f94b-4c63-b4b3-37c00e171534",
   "metadata": {},
   "outputs": [
    {
     "data": {
      "text/plain": [
       "array([[114, 120, 126],\n",
       "       [378, 400, 422],\n",
       "       [642, 680, 718]])"
      ]
     },
     "execution_count": 139,
     "metadata": {},
     "output_type": "execute_result"
    }
   ],
   "source": [
    "# dot product\n",
    "a2 = np.arange(12).reshape(3,4)\n",
    "a3 = np.arange(12,24).reshape(4,3)\n",
    "\n",
    "np.dot(a2,a3)   # Matrix Multiplication"
   ]
  },
  {
   "cell_type": "code",
   "execution_count": 141,
   "id": "52158738-9dd2-48f7-8b74-a4690ba551f2",
   "metadata": {},
   "outputs": [
    {
     "data": {
      "text/plain": [
       "array([[-0.00786394, -0.69625774, -0.81792497],\n",
       "       [-0.23540677, -3.46290565, -0.26718421],\n",
       "       [-0.27198612, -3.02871094, -0.09982279]])"
      ]
     },
     "execution_count": 141,
     "metadata": {},
     "output_type": "execute_result"
    }
   ],
   "source": [
    "# log and exponents\n",
    "np.exp(a1)\n",
    "np.log(a1)"
   ]
  },
  {
   "cell_type": "code",
   "execution_count": 143,
   "id": "edfcc049-1587-4184-aae3-ed6c7865b3a5",
   "metadata": {},
   "outputs": [
    {
     "data": {
      "text/plain": [
       "array([[18.,  6., 28.],\n",
       "       [83., 35., 15.]])"
      ]
     },
     "execution_count": 143,
     "metadata": {},
     "output_type": "execute_result"
    }
   ],
   "source": [
    "# round/floor/ceil\n",
    "\n",
    "np.ceil(np.random.random((2,3))*100)  # same round and floor"
   ]
  },
  {
   "cell_type": "markdown",
   "id": "3a9fc22f-e9dc-464c-b34d-fb45b835ee82",
   "metadata": {},
   "source": [
    "# Indexing and slicing "
   ]
  },
  {
   "cell_type": "markdown",
   "id": "38a54374-68b4-43c7-bf0a-6468ee37dddb",
   "metadata": {},
   "source": [
    "## Indexing "
   ]
  },
  {
   "cell_type": "code",
   "execution_count": 176,
   "id": "87f6edbe-6bc9-42fd-91a7-2c79394fee07",
   "metadata": {},
   "outputs": [],
   "source": [
    "a1 = np.arange(10)\n",
    "a2 = np.arange(12).reshape(3,4)\n",
    "a3 = np.arange(8).reshape(2,2,2)"
   ]
  },
  {
   "cell_type": "markdown",
   "id": "165596c8-2fa7-490b-a7c9-8408ba992451",
   "metadata": {},
   "source": [
    "**Indexing in 1D array**     \n",
    "Similar to Python lists, NumPy arrays use zero-based indexing."
   ]
  },
  {
   "cell_type": "code",
   "execution_count": 178,
   "id": "d8ea883c-0c96-412b-bfc4-8d64dd09491c",
   "metadata": {},
   "outputs": [
    {
     "name": "stdout",
     "output_type": "stream",
     "text": [
      "1.0\n",
      "3.0\n",
      "3.0\n"
     ]
    }
   ],
   "source": [
    "print(arr[0])  # gives the first element.\n",
    "print(arr[2])  \n",
    "print(arr[-1]) # Negative indexing "
   ]
  },
  {
   "cell_type": "markdown",
   "id": "b1cc85b1-fc65-47d0-85a9-9b0781b466f1",
   "metadata": {},
   "source": [
    "**2D array**\n"
   ]
  },
  {
   "cell_type": "code",
   "execution_count": 180,
   "id": "23d48f9d-2dc0-44c7-bd81-ba5eee7f4923",
   "metadata": {},
   "outputs": [
    {
     "data": {
      "text/plain": [
       "array([[ 0,  1,  2,  3],\n",
       "       [ 4,  5,  6,  7],\n",
       "       [ 8,  9, 10, 11]])"
      ]
     },
     "execution_count": 180,
     "metadata": {},
     "output_type": "execute_result"
    }
   ],
   "source": [
    "a2"
   ]
  },
  {
   "cell_type": "code",
   "execution_count": 184,
   "id": "22462656-c7a2-46e2-9bd7-a437cd767c48",
   "metadata": {},
   "outputs": [
    {
     "name": "stdout",
     "output_type": "stream",
     "text": [
      "6\n",
      "6\n"
     ]
    }
   ],
   "source": [
    "#Select element number 6 from the 2-D array using indices i, j and two sets of brackets\n",
    "print(a2[1][2])\n",
    "# Select element number 8 from the 2-D array, this time using i and j indexes in a single \n",
    "# set of brackets, separated by a comma\n",
    "print(a2[1,2])"
   ]
  },
  {
   "cell_type": "code",
   "execution_count": 186,
   "id": "f07052eb-766d-45d9-bc30-d39b8a5c4d30",
   "metadata": {},
   "outputs": [
    {
     "data": {
      "text/plain": [
       "11"
      ]
     },
     "execution_count": 186,
     "metadata": {},
     "output_type": "execute_result"
    }
   ],
   "source": [
    "#select 11 from the 2-D array\n",
    "a2[2,3]"
   ]
  },
  {
   "cell_type": "code",
   "execution_count": 188,
   "id": "ef37bd44-c375-4c8c-a173-4718a4412498",
   "metadata": {},
   "outputs": [
    {
     "data": {
      "text/plain": [
       "4"
      ]
     },
     "execution_count": 188,
     "metadata": {},
     "output_type": "execute_result"
    }
   ],
   "source": [
    "#access 4 from 2-D array\n",
    "a2[1,0]"
   ]
  },
  {
   "cell_type": "markdown",
   "id": "e1bfee0e-9a1d-4b47-a050-661ced5ba1b3",
   "metadata": {},
   "source": [
    "**3-D Array**    \n",
    "A 3D NumPy array is structured as multiple 2D matrices stacked together. Indexing in 3D follows the format:    \n",
    "array[depth, row, column]\n",
    "* depth refers to the index of the 2D matrix (the \"layer\" in the 3D array).\n",
    "* row refers to the row index in the selected 2D matrix.\n",
    "* column refers to the column index in the selected row."
   ]
  },
  {
   "cell_type": "code",
   "execution_count": 194,
   "id": "b1679692-2e60-42c1-a52a-a314a3e33be0",
   "metadata": {},
   "outputs": [
    {
     "data": {
      "text/plain": [
       "array([[[0, 1],\n",
       "        [2, 3]],\n",
       "\n",
       "       [[4, 5],\n",
       "        [6, 7]]])"
      ]
     },
     "execution_count": 194,
     "metadata": {},
     "output_type": "execute_result"
    }
   ],
   "source": [
    "a3"
   ]
  },
  {
   "cell_type": "code",
   "execution_count": 196,
   "id": "c6df26b4-07c8-48d6-b346-933e2847f2da",
   "metadata": {},
   "outputs": [
    {
     "data": {
      "text/plain": [
       "5"
      ]
     },
     "execution_count": 196,
     "metadata": {},
     "output_type": "execute_result"
    }
   ],
   "source": [
    "# access 5 from the 3D array\n",
    "a3[1,0,1]"
   ]
  },
  {
   "cell_type": "code",
   "execution_count": 200,
   "id": "8067a880-dc63-49c1-9b72-9417630b1dc9",
   "metadata": {},
   "outputs": [
    {
     "data": {
      "text/plain": [
       "2"
      ]
     },
     "execution_count": 200,
     "metadata": {},
     "output_type": "execute_result"
    }
   ],
   "source": [
    "# access 2 from the array\n",
    "a3[0,1,0]"
   ]
  },
  {
   "cell_type": "markdown",
   "id": "1e4617e9-1ed0-450e-a36a-228fc6e898c9",
   "metadata": {},
   "source": [
    "## Slicing"
   ]
  },
  {
   "cell_type": "markdown",
   "id": "8ddd88d2-b195-421c-9aff-e8923b728e39",
   "metadata": {},
   "source": [
    "**Slicing in 1-D array**  \n",
    "synatx is : array[start:stop:step]"
   ]
  },
  {
   "cell_type": "code",
   "execution_count": 203,
   "id": "d496f552-af31-4818-b019-23f066be0391",
   "metadata": {},
   "outputs": [
    {
     "data": {
      "text/plain": [
       "array([0, 1, 2, 3, 4, 5, 6, 7, 8, 9])"
      ]
     },
     "execution_count": 203,
     "metadata": {},
     "output_type": "execute_result"
    }
   ],
   "source": [
    "a1"
   ]
  },
  {
   "cell_type": "code",
   "execution_count": 205,
   "id": "02a0f629-7b7e-4a3c-92d8-05a84c78c151",
   "metadata": {},
   "outputs": [
    {
     "data": {
      "text/plain": [
       "array([2, 3, 4])"
      ]
     },
     "execution_count": 205,
     "metadata": {},
     "output_type": "execute_result"
    }
   ],
   "source": [
    "# extract 2,3,4 from the array\n",
    "a1[2:5]"
   ]
  },
  {
   "cell_type": "code",
   "execution_count": 207,
   "id": "31c88ccd-87b1-4961-9976-bfd26af4269c",
   "metadata": {},
   "outputs": [
    {
     "data": {
      "text/plain": [
       "array([2, 4])"
      ]
     },
     "execution_count": 207,
     "metadata": {},
     "output_type": "execute_result"
    }
   ],
   "source": [
    "a1[2:5:2]"
   ]
  },
  {
   "cell_type": "markdown",
   "id": "6e6a869d-d57d-4218-bb8a-96612705f212",
   "metadata": {},
   "source": [
    "**Slicing in 2-D array**    \n",
    "syntax is :  array[row_start:row_stop:row_step, col_start:col_stop:col_step]\n",
    "* row_start:row_stop:row_step → Selects specific rows.\n",
    "* col_start:col_stop:col_step → Selects specific columns.\n",
    "\n"
   ]
  },
  {
   "cell_type": "code",
   "execution_count": 215,
   "id": "b61b18c4-55f8-43bb-b964-065a5b357fb2",
   "metadata": {},
   "outputs": [
    {
     "data": {
      "text/plain": [
       "array([[ 0,  1,  2,  3],\n",
       "       [ 4,  5,  6,  7],\n",
       "       [ 8,  9, 10, 11]])"
      ]
     },
     "execution_count": 215,
     "metadata": {},
     "output_type": "execute_result"
    }
   ],
   "source": [
    "a2"
   ]
  },
  {
   "cell_type": "code",
   "execution_count": 217,
   "id": "04939bd1-f672-4664-bd87-6487834b9f47",
   "metadata": {},
   "outputs": [
    {
     "data": {
      "text/plain": [
       "array([0, 1, 2, 3])"
      ]
     },
     "execution_count": 217,
     "metadata": {},
     "output_type": "execute_result"
    }
   ],
   "source": [
    "#extract first row\n",
    "a2[0,:]"
   ]
  },
  {
   "cell_type": "code",
   "execution_count": 219,
   "id": "8cddef07-6387-42c6-a49a-e8a55bd15d53",
   "metadata": {},
   "outputs": [
    {
     "data": {
      "text/plain": [
       "array([ 2,  6, 10])"
      ]
     },
     "execution_count": 219,
     "metadata": {},
     "output_type": "execute_result"
    }
   ],
   "source": [
    "#extraxt 3rd column\n",
    "a2[:,2]"
   ]
  },
  {
   "cell_type": "code",
   "execution_count": 221,
   "id": "6396581a-0fc4-44fa-a1ee-9b985f792e83",
   "metadata": {},
   "outputs": [
    {
     "data": {
      "text/plain": [
       "array([[ 5,  6],\n",
       "       [ 9, 10]])"
      ]
     },
     "execution_count": 221,
     "metadata": {},
     "output_type": "execute_result"
    }
   ],
   "source": [
    "#extract [[5 6]\n",
    "#        [9 10]]\n",
    "a2[1:,1:3]\n"
   ]
  },
  {
   "cell_type": "code",
   "execution_count": 225,
   "id": "500f28f8-dea8-42e5-a19c-4a49d6117d7b",
   "metadata": {},
   "outputs": [
    {
     "data": {
      "text/plain": [
       "array([[ 0,  3],\n",
       "       [ 8, 11]])"
      ]
     },
     "execution_count": 225,
     "metadata": {},
     "output_type": "execute_result"
    }
   ],
   "source": [
    "#extract [[0 3]\n",
    "#         [8 11]]\n",
    "a2[: :2,::3]"
   ]
  },
  {
   "cell_type": "code",
   "execution_count": 229,
   "id": "8a9592c0-dda8-4795-9113-b3d3e9bb1e3b",
   "metadata": {},
   "outputs": [
    {
     "data": {
      "text/plain": [
       "array([[ 1,  3],\n",
       "       [ 9, 11]])"
      ]
     },
     "execution_count": 229,
     "metadata": {},
     "output_type": "execute_result"
    }
   ],
   "source": [
    "# #extract [[1 3]\n",
    "#         [9 11]]\n",
    "a2[::2,1::2]"
   ]
  },
  {
   "cell_type": "code",
   "execution_count": 231,
   "id": "c7d9e1b9-4da1-4039-ad99-0d14dd12173d",
   "metadata": {},
   "outputs": [
    {
     "data": {
      "text/plain": [
       "array([4, 7])"
      ]
     },
     "execution_count": 231,
     "metadata": {},
     "output_type": "execute_result"
    }
   ],
   "source": [
    "#extract [4,7]\n",
    "a2[1,::3]"
   ]
  },
  {
   "cell_type": "code",
   "execution_count": 235,
   "id": "44829813-085c-470f-85c2-f9f51ce829c0",
   "metadata": {},
   "outputs": [
    {
     "data": {
      "text/plain": [
       "array([[1, 2, 3],\n",
       "       [5, 6, 7]])"
      ]
     },
     "execution_count": 235,
     "metadata": {},
     "output_type": "execute_result"
    }
   ],
   "source": [
    "# #extract [[1 2 3]\n",
    "#         [5 6 7]]\n",
    "a2[:2,1:]"
   ]
  },
  {
   "cell_type": "markdown",
   "id": "17c72d62-387f-4efc-8fe9-82675642a52a",
   "metadata": {},
   "source": [
    "**Slicing in 3-D array**  \n",
    "syntax is: array[depth_start:depth_stop:depth_step, row_start:row_stop:row_step, col_start:col_stop:col_step]"
   ]
  },
  {
   "cell_type": "code",
   "execution_count": 239,
   "id": "d69c73f1-eea0-47c1-b9d4-e42d5a59a80a",
   "metadata": {},
   "outputs": [
    {
     "data": {
      "text/plain": [
       "array([[[ 0,  1,  2],\n",
       "        [ 3,  4,  5],\n",
       "        [ 6,  7,  8]],\n",
       "\n",
       "       [[ 9, 10, 11],\n",
       "        [12, 13, 14],\n",
       "        [15, 16, 17]],\n",
       "\n",
       "       [[18, 19, 20],\n",
       "        [21, 22, 23],\n",
       "        [24, 25, 26]]])"
      ]
     },
     "execution_count": 239,
     "metadata": {},
     "output_type": "execute_result"
    }
   ],
   "source": [
    "a3 = np.arange(27).reshape(3,3,3)\n",
    "a3"
   ]
  },
  {
   "cell_type": "code",
   "execution_count": 241,
   "id": "5592e12a-6cd4-43f8-987c-1986a30486cd",
   "metadata": {},
   "outputs": [
    {
     "data": {
      "text/plain": [
       "array([[ 9, 10, 11],\n",
       "       [12, 13, 14],\n",
       "       [15, 16, 17]])"
      ]
     },
     "execution_count": 241,
     "metadata": {},
     "output_type": "execute_result"
    }
   ],
   "source": [
    "#extract middle 2D array\n",
    "a3[1]"
   ]
  },
  {
   "cell_type": "code",
   "execution_count": 243,
   "id": "a11d665a-5ce0-45c1-9dee-cb3debbb1a92",
   "metadata": {},
   "outputs": [
    {
     "data": {
      "text/plain": [
       "array([[[ 0,  1,  2],\n",
       "        [ 3,  4,  5],\n",
       "        [ 6,  7,  8]],\n",
       "\n",
       "       [[18, 19, 20],\n",
       "        [21, 22, 23],\n",
       "        [24, 25, 26]]])"
      ]
     },
     "execution_count": 243,
     "metadata": {},
     "output_type": "execute_result"
    }
   ],
   "source": [
    "#extract first and last 2D array\n",
    "a3[::2]"
   ]
  },
  {
   "cell_type": "code",
   "execution_count": 245,
   "id": "d5a32de8-c0f4-46bf-bad4-69b3ca18c13e",
   "metadata": {},
   "outputs": [
    {
     "data": {
      "text/plain": [
       "array([3, 4, 5])"
      ]
     },
     "execution_count": 245,
     "metadata": {},
     "output_type": "execute_result"
    }
   ],
   "source": [
    "#Extract [ 3,  4,  5]\n",
    "a3[0,1,:]\n"
   ]
  },
  {
   "cell_type": "code",
   "execution_count": 247,
   "id": "d8be65a4-555b-4971-853c-ee5e0b700338",
   "metadata": {},
   "outputs": [
    {
     "data": {
      "text/plain": [
       "array([10, 13, 16])"
      ]
     },
     "execution_count": 247,
     "metadata": {},
     "output_type": "execute_result"
    }
   ],
   "source": [
    "#extract [10, 13, 16]\n",
    "a3[1,:,1]"
   ]
  },
  {
   "cell_type": "code",
   "execution_count": 251,
   "id": "7721589b-413c-4d1b-86c2-50b9e9defa1d",
   "metadata": {},
   "outputs": [
    {
     "data": {
      "text/plain": [
       "array([[22, 23],\n",
       "       [25, 26]])"
      ]
     },
     "execution_count": 251,
     "metadata": {},
     "output_type": "execute_result"
    }
   ],
   "source": [
    "#extract[22, 23],\n",
    "#      [25, 26]\n",
    "a3[2,1:,1:]"
   ]
  },
  {
   "cell_type": "code",
   "execution_count": 257,
   "id": "378a7998-e67c-4a7c-9473-2dda213aef63",
   "metadata": {},
   "outputs": [
    {
     "data": {
      "text/plain": [
       "array([[ 0,  2],\n",
       "       [18, 20]])"
      ]
     },
     "execution_count": 257,
     "metadata": {},
     "output_type": "execute_result"
    }
   ],
   "source": [
    "# extract[[ 0,  2],\n",
    "#       [18, 20]]\n",
    "\n",
    "a3[::2,0,::2]"
   ]
  },
  {
   "cell_type": "markdown",
   "id": "a2a6c103-6d28-403b-a302-04e129be3ea2",
   "metadata": {},
   "source": [
    "# Iterating on numpy array"
   ]
  },
  {
   "cell_type": "markdown",
   "id": "784df810-3772-464a-b590-776c71dfc9a8",
   "metadata": {},
   "source": [
    "### Element-wise Iteration (1D or flattened)\n"
   ]
  },
  {
   "cell_type": "code",
   "execution_count": 262,
   "id": "b0f55cee-466b-4c1d-87a3-1ec6cb740d64",
   "metadata": {},
   "outputs": [
    {
     "name": "stdout",
     "output_type": "stream",
     "text": [
      "1\n",
      "2\n",
      "3\n",
      "4\n"
     ]
    }
   ],
   "source": [
    "arr = np.array([1, 2, 3, 4])\n",
    "\n",
    "for element in arr:\n",
    "    print(element)"
   ]
  },
  {
   "cell_type": "markdown",
   "id": "e5a1c015-c14d-4456-9bbd-fd15fa7db310",
   "metadata": {},
   "source": [
    "### Row-wise Iteration (2D array)"
   ]
  },
  {
   "cell_type": "code",
   "execution_count": 265,
   "id": "5554151b-cafe-4532-b130-2da439bb2347",
   "metadata": {},
   "outputs": [
    {
     "name": "stdout",
     "output_type": "stream",
     "text": [
      "[1 2]\n",
      "[3 4]\n"
     ]
    }
   ],
   "source": [
    "arr2d = np.array([[1, 2], [3, 4]])\n",
    "\n",
    "for row in arr2d:\n",
    "    print(row)"
   ]
  },
  {
   "cell_type": "markdown",
   "id": "08d211ea-f340-47de-a000-65f7f016f056",
   "metadata": {},
   "source": [
    "### Iterating over 3-D array"
   ]
  },
  {
   "cell_type": "code",
   "execution_count": 269,
   "id": "adf27d8c-097a-447f-bcc3-586131b1d860",
   "metadata": {},
   "outputs": [
    {
     "name": "stdout",
     "output_type": "stream",
     "text": [
      "[[0 1 2]\n",
      " [3 4 5]\n",
      " [6 7 8]]\n",
      "[[ 9 10 11]\n",
      " [12 13 14]\n",
      " [15 16 17]]\n",
      "[[18 19 20]\n",
      " [21 22 23]\n",
      " [24 25 26]]\n"
     ]
    }
   ],
   "source": [
    "for i in a3:\n",
    "    print(i)"
   ]
  },
  {
   "cell_type": "markdown",
   "id": "8dea3fd6-13c7-4fea-922a-7b390823a9a4",
   "metadata": {},
   "source": [
    "### Using np.nditer (General Element-wise Iteration)"
   ]
  },
  {
   "cell_type": "code",
   "execution_count": 272,
   "id": "006d8186-aa07-4e84-b05c-93e2f71686e3",
   "metadata": {},
   "outputs": [
    {
     "name": "stdout",
     "output_type": "stream",
     "text": [
      "1\n",
      "2\n",
      "3\n",
      "4\n"
     ]
    }
   ],
   "source": [
    "for x in np.nditer(arr2d):\n",
    "    print(x)"
   ]
  },
  {
   "cell_type": "markdown",
   "id": "d4a06d84-2ee9-4ed1-98d1-99afb5c678bd",
   "metadata": {},
   "source": [
    "# Reshaping"
   ]
  },
  {
   "cell_type": "code",
   "execution_count": null,
   "id": "b51907cc-3fb0-42d3-86e2-5c2c3ebd5d89",
   "metadata": {},
   "outputs": [],
   "source": [
    "#reshaping\n",
    "#above"
   ]
  },
  {
   "cell_type": "markdown",
   "id": "d606fdae-3e61-4535-ad3b-3a2f057f573b",
   "metadata": {},
   "source": [
    "### Transpose\n",
    "Gives transpose of a matirx"
   ]
  },
  {
   "cell_type": "code",
   "execution_count": 279,
   "id": "22ee76ae-b441-48d7-80e2-726d5253f414",
   "metadata": {},
   "outputs": [
    {
     "data": {
      "text/plain": [
       "array([[ 0,  4,  8],\n",
       "       [ 1,  5,  9],\n",
       "       [ 2,  6, 10],\n",
       "       [ 3,  7, 11]])"
      ]
     },
     "execution_count": 279,
     "metadata": {},
     "output_type": "execute_result"
    }
   ],
   "source": [
    "np.transpose(a2)\n",
    "#or\n",
    "a2.T"
   ]
  },
  {
   "cell_type": "markdown",
   "id": "02f34318-73d1-4719-a541-2f90dca735e4",
   "metadata": {},
   "source": [
    "### Ravel\n",
    "Converts given array to 1D"
   ]
  },
  {
   "cell_type": "code",
   "execution_count": 282,
   "id": "3484b82b-129c-472c-a7ab-affee808804a",
   "metadata": {},
   "outputs": [
    {
     "data": {
      "text/plain": [
       "array([ 0,  1,  2,  3,  4,  5,  6,  7,  8,  9, 10, 11])"
      ]
     },
     "execution_count": 282,
     "metadata": {},
     "output_type": "execute_result"
    }
   ],
   "source": [
    "a2.ravel()"
   ]
  },
  {
   "cell_type": "markdown",
   "id": "0a44a730-4dc8-407c-a386-bf295d69947f",
   "metadata": {},
   "source": [
    "# Stacking\n",
    "stacking refers to joining multiple arrays along a new axis. Here are the most common ways to stack arrays"
   ]
  },
  {
   "cell_type": "markdown",
   "id": "d2331585-0a36-44a9-b5e8-9a709fecfc8a",
   "metadata": {},
   "source": [
    "### np.stack()\n",
    "Stacks arrays along a new axis."
   ]
  },
  {
   "cell_type": "code",
   "execution_count": 291,
   "id": "a3bccf99-c946-4ab8-9671-743f73e514ae",
   "metadata": {},
   "outputs": [
    {
     "name": "stdout",
     "output_type": "stream",
     "text": [
      "[[1 2 3]\n",
      " [4 5 6]]\n",
      "[[1 4]\n",
      " [2 5]\n",
      " [3 6]]\n"
     ]
    }
   ],
   "source": [
    "a = np.array([1, 2, 3])\n",
    "b = np.array([4, 5, 6])\n",
    "\n",
    "result = np.stack((a, b))  # Default axis=0\n",
    "print(result)\n",
    "print(np.stack((a, b), axis=1))"
   ]
  },
  {
   "cell_type": "markdown",
   "id": "036b0795-4c4d-4c75-a59c-4405bc859c67",
   "metadata": {},
   "source": [
    "### np.hstack() – Horizontal stack\n",
    "Joins arrays along columns (axis=1) for 2D arrays or end-to-end for 1D."
   ]
  },
  {
   "cell_type": "code",
   "execution_count": 293,
   "id": "1d95ca39-2e81-4729-be3e-66f97ab4ce3b",
   "metadata": {},
   "outputs": [
    {
     "data": {
      "text/plain": [
       "array([[ 0,  1,  2,  3, 12, 13, 14, 15],\n",
       "       [ 4,  5,  6,  7, 16, 17, 18, 19],\n",
       "       [ 8,  9, 10, 11, 20, 21, 22, 23]])"
      ]
     },
     "execution_count": 293,
     "metadata": {},
     "output_type": "execute_result"
    }
   ],
   "source": [
    "a4 = np.arange(12).reshape(3,4)\n",
    "a5 = np.arange(12,24).reshape(3,4)\n",
    "np.hstack((a4,a5))"
   ]
  },
  {
   "cell_type": "markdown",
   "id": "00eecd92-2789-4fae-80dd-3fee209bbae6",
   "metadata": {},
   "source": [
    "### np.vstack() – Vertical stack\n",
    "Joins arrays along rows (axis=0)."
   ]
  },
  {
   "cell_type": "code",
   "execution_count": 297,
   "id": "6b1a4247-63b3-47cb-bb72-e6e147dfd01e",
   "metadata": {},
   "outputs": [
    {
     "data": {
      "text/plain": [
       "array([[ 0,  1,  2,  3],\n",
       "       [ 4,  5,  6,  7],\n",
       "       [ 8,  9, 10, 11],\n",
       "       [12, 13, 14, 15],\n",
       "       [16, 17, 18, 19],\n",
       "       [20, 21, 22, 23]])"
      ]
     },
     "execution_count": 297,
     "metadata": {},
     "output_type": "execute_result"
    }
   ],
   "source": [
    "np.vstack((a4,a5))"
   ]
  },
  {
   "cell_type": "markdown",
   "id": "d5875a4d-c10f-4582-a362-74aec28c8fd2",
   "metadata": {},
   "source": [
    "# Splitting\n",
    "splitting refers to dividing an array into multiple sub-arrays. There are a few common functions for splitting arrays:"
   ]
  },
  {
   "cell_type": "markdown",
   "id": "c02781aa-37fe-4933-b3c3-c30cddf46568",
   "metadata": {},
   "source": [
    "### np.hsplit() – Horizontal split (columns)\n",
    "Only works on 2D arrays."
   ]
  },
  {
   "cell_type": "code",
   "execution_count": 301,
   "id": "0d02da82-eed8-48ad-b8ff-72c8f84f54af",
   "metadata": {},
   "outputs": [
    {
     "data": {
      "text/plain": [
       "array([[ 0,  1,  2,  3],\n",
       "       [ 4,  5,  6,  7],\n",
       "       [ 8,  9, 10, 11]])"
      ]
     },
     "execution_count": 301,
     "metadata": {},
     "output_type": "execute_result"
    }
   ],
   "source": [
    "a4"
   ]
  },
  {
   "cell_type": "code",
   "execution_count": 305,
   "id": "37c0481a-7db1-4bc1-814c-8a913d2415df",
   "metadata": {},
   "outputs": [
    {
     "data": {
      "text/plain": [
       "[array([[0, 1],\n",
       "        [4, 5],\n",
       "        [8, 9]]),\n",
       " array([[ 2,  3],\n",
       "        [ 6,  7],\n",
       "        [10, 11]])]"
      ]
     },
     "execution_count": 305,
     "metadata": {},
     "output_type": "execute_result"
    }
   ],
   "source": [
    "np.hsplit(a4,2)"
   ]
  },
  {
   "cell_type": "markdown",
   "id": "4a8cc3c2-c414-43fe-9a46-0c4213974d87",
   "metadata": {},
   "source": [
    "### np.vsplit() – Vertical split (rows)\n",
    "Also for 2D arrays."
   ]
  },
  {
   "cell_type": "code",
   "execution_count": 307,
   "id": "80571694-40ae-46f5-bf41-aa3c61d1ffe3",
   "metadata": {},
   "outputs": [
    {
     "data": {
      "text/plain": [
       "array([[12, 13, 14, 15],\n",
       "       [16, 17, 18, 19],\n",
       "       [20, 21, 22, 23]])"
      ]
     },
     "execution_count": 307,
     "metadata": {},
     "output_type": "execute_result"
    }
   ],
   "source": [
    "a5"
   ]
  },
  {
   "cell_type": "code",
   "execution_count": 309,
   "id": "bc38cacd-1b75-4b8d-bb9e-5b311b83eb50",
   "metadata": {},
   "outputs": [
    {
     "data": {
      "text/plain": [
       "[array([[12, 13, 14, 15]]),\n",
       " array([[16, 17, 18, 19]]),\n",
       " array([[20, 21, 22, 23]])]"
      ]
     },
     "execution_count": 309,
     "metadata": {},
     "output_type": "execute_result"
    }
   ],
   "source": [
    "np.vsplit(a5,3)"
   ]
  },
  {
   "cell_type": "code",
   "execution_count": null,
   "id": "3761bdf5-3712-45df-adf4-fec643733b97",
   "metadata": {},
   "outputs": [],
   "source": []
  }
 ],
 "metadata": {
  "kernelspec": {
   "display_name": "Python [conda env:base] *",
   "language": "python",
   "name": "conda-base-py"
  },
  "language_info": {
   "codemirror_mode": {
    "name": "ipython",
    "version": 3
   },
   "file_extension": ".py",
   "mimetype": "text/x-python",
   "name": "python",
   "nbconvert_exporter": "python",
   "pygments_lexer": "ipython3",
   "version": "3.12.7"
  }
 },
 "nbformat": 4,
 "nbformat_minor": 5
}
